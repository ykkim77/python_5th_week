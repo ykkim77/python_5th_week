{
  "nbformat": 4,
  "nbformat_minor": 0,
  "metadata": {
    "colab": {
      "name": "python_programming_5th.ipynb",
      "provenance": [],
      "collapsed_sections": [],
      "toc_visible": true,
      "authorship_tag": "ABX9TyNKT2E7+ocHCUzNctXEXIQV",
      "include_colab_link": true
    },
    "kernelspec": {
      "name": "python3",
      "display_name": "Python 3"
    }
  },
  "cells": [
    {
      "cell_type": "markdown",
      "metadata": {
        "id": "view-in-github",
        "colab_type": "text"
      },
      "source": [
        "<a href=\"https://colab.research.google.com/github/ykkim77/python_5th_week/blob/main/python_programming_5th.ipynb\" target=\"_parent\"><img src=\"https://colab.research.google.com/assets/colab-badge.svg\" alt=\"Open In Colab\"/></a>"
      ]
    },
    {
      "cell_type": "markdown",
      "metadata": {
        "id": "Yjs8VyZ5x3rs"
      },
      "source": [
        "# 튜플 자료형"
      ]
    },
    {
      "cell_type": "markdown",
      "metadata": {
        "id": "sKixoghFVPLI"
      },
      "source": [
        "**튜플 자료형의 정의**"
      ]
    },
    {
      "cell_type": "code",
      "metadata": {
        "colab": {
          "base_uri": "https://localhost:8080/"
        },
        "id": "qzJfifOWyM-i",
        "outputId": "4dbcf695-eb75-40ee-8ad5-d455fea1fdb7"
      },
      "source": [
        "\n",
        "t1 = ()\n",
        "t2 = (1.)\n",
        "t3 = (1, 2, 3)\n",
        "t4 = 1, 2, 3\n",
        "\n",
        "print(t1,t2,t3,t4)"
      ],
      "execution_count": null,
      "outputs": [
        {
          "output_type": "stream",
          "text": [
            "() 1.0 (1, 2, 3) (1, 2, 3)\n"
          ],
          "name": "stdout"
        }
      ]
    },
    {
      "cell_type": "markdown",
      "metadata": {
        "id": "TavYy4tlVo9n"
      },
      "source": [
        "**튜플 데이터 삭제를 시도한다면?**"
      ]
    },
    {
      "cell_type": "code",
      "metadata": {
        "colab": {
          "base_uri": "https://localhost:8080/",
          "height": 190
        },
        "id": "bXujKeI9VgjZ",
        "outputId": "92ac0e8e-257b-4bc4-ba77-cba8e77aeb32"
      },
      "source": [
        "t1 = (1,2,'a','b')\n",
        "del t1[0]   # 에러 발생!"
      ],
      "execution_count": null,
      "outputs": [
        {
          "output_type": "error",
          "ename": "TypeError",
          "evalue": "ignored",
          "traceback": [
            "\u001b[0;31m---------------------------------------------------------------------------\u001b[0m",
            "\u001b[0;31mTypeError\u001b[0m                                 Traceback (most recent call last)",
            "\u001b[0;32m<ipython-input-2-e60ebcde2836>\u001b[0m in \u001b[0;36m<module>\u001b[0;34m()\u001b[0m\n\u001b[1;32m      1\u001b[0m \u001b[0mt1\u001b[0m \u001b[0;34m=\u001b[0m \u001b[0;34m(\u001b[0m\u001b[0;36m1\u001b[0m\u001b[0;34m,\u001b[0m\u001b[0;36m2\u001b[0m\u001b[0;34m,\u001b[0m\u001b[0;34m'a'\u001b[0m\u001b[0;34m,\u001b[0m\u001b[0;34m'b'\u001b[0m\u001b[0;34m)\u001b[0m\u001b[0;34m\u001b[0m\u001b[0;34m\u001b[0m\u001b[0m\n\u001b[0;32m----> 2\u001b[0;31m \u001b[0;32mdel\u001b[0m \u001b[0mt1\u001b[0m\u001b[0;34m[\u001b[0m\u001b[0;36m0\u001b[0m\u001b[0;34m]\u001b[0m\u001b[0;34m\u001b[0m\u001b[0;34m\u001b[0m\u001b[0m\n\u001b[0m",
            "\u001b[0;31mTypeError\u001b[0m: 'tuple' object doesn't support item deletion"
          ]
        }
      ]
    },
    {
      "cell_type": "markdown",
      "metadata": {
        "id": "kNsxOzSpWJj_"
      },
      "source": [
        "**튜플 값에 변경을 시도한다면?**"
      ]
    },
    {
      "cell_type": "code",
      "metadata": {
        "colab": {
          "base_uri": "https://localhost:8080/",
          "height": 190
        },
        "id": "MZT5EODhWDqz",
        "outputId": "aeda3300-4bd0-41b3-ca73-44f6ffa0b382"
      },
      "source": [
        "t1 = (1,2,'a','b')\n",
        "t1[0] = 'c'"
      ],
      "execution_count": null,
      "outputs": [
        {
          "output_type": "error",
          "ename": "TypeError",
          "evalue": "ignored",
          "traceback": [
            "\u001b[0;31m---------------------------------------------------------------------------\u001b[0m",
            "\u001b[0;31mTypeError\u001b[0m                                 Traceback (most recent call last)",
            "\u001b[0;32m<ipython-input-3-54d925f8271e>\u001b[0m in \u001b[0;36m<module>\u001b[0;34m()\u001b[0m\n\u001b[1;32m      1\u001b[0m \u001b[0mt1\u001b[0m \u001b[0;34m=\u001b[0m \u001b[0;34m(\u001b[0m\u001b[0;36m1\u001b[0m\u001b[0;34m,\u001b[0m\u001b[0;36m2\u001b[0m\u001b[0;34m,\u001b[0m\u001b[0;34m'a'\u001b[0m\u001b[0;34m,\u001b[0m\u001b[0;34m'b'\u001b[0m\u001b[0;34m)\u001b[0m\u001b[0;34m\u001b[0m\u001b[0;34m\u001b[0m\u001b[0m\n\u001b[0;32m----> 2\u001b[0;31m \u001b[0mt1\u001b[0m\u001b[0;34m[\u001b[0m\u001b[0;36m0\u001b[0m\u001b[0;34m]\u001b[0m \u001b[0;34m=\u001b[0m \u001b[0;34m'c'\u001b[0m\u001b[0;34m\u001b[0m\u001b[0;34m\u001b[0m\u001b[0m\n\u001b[0m",
            "\u001b[0;31mTypeError\u001b[0m: 'tuple' object does not support item assignment"
          ]
        }
      ]
    },
    {
      "cell_type": "markdown",
      "metadata": {
        "id": "Kb-mJnuLWiG7"
      },
      "source": [
        "**인덱싱 다루기**"
      ]
    },
    {
      "cell_type": "code",
      "metadata": {
        "colab": {
          "base_uri": "https://localhost:8080/"
        },
        "id": "g4gcgwwoWnTi",
        "outputId": "dfea9171-21e3-4bf5-9539-74dce416bd6a"
      },
      "source": [
        "t1 = (1,2,'a','b')\n",
        "t1[0]"
      ],
      "execution_count": null,
      "outputs": [
        {
          "output_type": "execute_result",
          "data": {
            "text/plain": [
              "1"
            ]
          },
          "metadata": {
            "tags": []
          },
          "execution_count": 4
        }
      ]
    },
    {
      "cell_type": "markdown",
      "metadata": {
        "id": "vaaIwoXSXFlf"
      },
      "source": [
        "**슬라이싱 하기**"
      ]
    },
    {
      "cell_type": "code",
      "metadata": {
        "colab": {
          "base_uri": "https://localhost:8080/"
        },
        "id": "pO1IrB_zXH5v",
        "outputId": "ddc4724e-a1bc-417e-a2c1-2e469c334a43"
      },
      "source": [
        "t1 = (1,2,'a','b')\n",
        "t1[1:]"
      ],
      "execution_count": null,
      "outputs": [
        {
          "output_type": "execute_result",
          "data": {
            "text/plain": [
              "(2, 'a', 'b')"
            ]
          },
          "metadata": {
            "tags": []
          },
          "execution_count": 5
        }
      ]
    },
    {
      "cell_type": "markdown",
      "metadata": {
        "id": "WVc4bslKXV7Y"
      },
      "source": [
        "**튜플 더하기와 곱하기**"
      ]
    },
    {
      "cell_type": "code",
      "metadata": {
        "colab": {
          "base_uri": "https://localhost:8080/"
        },
        "id": "VdpFAinRXYf5",
        "outputId": "54042d49-59df-4e2d-e90b-447744575993"
      },
      "source": [
        "t2 = (3, 4)\n",
        "t1+t2"
      ],
      "execution_count": null,
      "outputs": [
        {
          "output_type": "execute_result",
          "data": {
            "text/plain": [
              "(1, 2, 'a', 'b', 3, 4)"
            ]
          },
          "metadata": {
            "tags": []
          },
          "execution_count": 6
        }
      ]
    },
    {
      "cell_type": "markdown",
      "metadata": {
        "id": "TpKxAFkhXeAx"
      },
      "source": [
        "**튜플 길이 구하기**"
      ]
    },
    {
      "cell_type": "code",
      "metadata": {
        "colab": {
          "base_uri": "https://localhost:8080/"
        },
        "id": "dPqIhXQxXfwL",
        "outputId": "4a7156db-3851-4210-ea22-9e72d898df2d"
      },
      "source": [
        "t1 = (1,2,'a','b')\n",
        "len(t1)"
      ],
      "execution_count": null,
      "outputs": [
        {
          "output_type": "execute_result",
          "data": {
            "text/plain": [
              "4"
            ]
          },
          "metadata": {
            "tags": []
          },
          "execution_count": 8
        }
      ]
    },
    {
      "cell_type": "markdown",
      "metadata": {
        "id": "tpTATKp9Xp8k"
      },
      "source": [
        "**튜플을 적용하여 온라인 거래 명세서 만들기**"
      ]
    },
    {
      "cell_type": "code",
      "metadata": {
        "colab": {
          "base_uri": "https://localhost:8080/"
        },
        "id": "iwrVNM50Jb0t",
        "outputId": "6bbea19b-d5f2-4bc8-ac5b-9b4984e3ad31"
      },
      "source": [
        "transaction1001 = (\"파이썬 코딩 길잡이\", \"데이터베이스론\", \"JAVA\")\n",
        "print(\"3월 1일 주문 송장 : \", transaction1001)\n",
        "\n",
        "transaction1002 = (\"요리비법\", \"영화평론\", \"헤리포터\")\n",
        "print(\"3월 15일 주문 송장 : \", transaction1002)\n"
      ],
      "execution_count": null,
      "outputs": [
        {
          "output_type": "stream",
          "text": [
            "3월 1일 주문 송장 :  ('파이썬 코딩 길잡이', '데이터베이스론', 'JAVA')\n",
            "3월 15일 주문 송장 :  ('요리비법', '영화평론', '헤리포터')\n"
          ],
          "name": "stdout"
        }
      ]
    },
    {
      "cell_type": "markdown",
      "metadata": {
        "id": "mSvbjEeBYJ6f"
      },
      "source": [
        "# 딕셔너리"
      ]
    },
    {
      "cell_type": "markdown",
      "metadata": {
        "id": "CgEfrnJsYOVs"
      },
      "source": [
        "**딕셔너리의 선언**"
      ]
    },
    {
      "cell_type": "code",
      "metadata": {
        "colab": {
          "base_uri": "https://localhost:8080/"
        },
        "id": "Zuvel-elYQ6R",
        "outputId": "9bb972ad-353f-44bd-c12b-35322bcb41b2"
      },
      "source": [
        "dic = {'name':'pey', 'age':'25','birth':'0328'}\n",
        "print(dic)\n",
        "a = {1:'hi'}\n",
        "print(a)\n",
        "b = {'a':[1,2,3]}\n",
        "print(b)"
      ],
      "execution_count": null,
      "outputs": [
        {
          "output_type": "stream",
          "text": [
            "{'name': 'pey', 'age': '25', 'birth': '0328'}\n",
            "{1: 'hi'}\n",
            "{'a': [1, 2, 3]}\n"
          ],
          "name": "stdout"
        }
      ]
    },
    {
      "cell_type": "markdown",
      "metadata": {
        "id": "OsqVOUOWY3H7"
      },
      "source": [
        "**딕셔너리 쌍 추가하기**\n",
        "\n",
        "\n"
      ]
    },
    {
      "cell_type": "code",
      "metadata": {
        "colab": {
          "base_uri": "https://localhost:8080/"
        },
        "id": "OL1dWnpZPun5",
        "outputId": "b408b7d0-3803-4429-9aea-3a60894d22ce"
      },
      "source": [
        "a = {1: 'a'}\n",
        "a['a'] = 'b'\n",
        "print(a)\n",
        "\n",
        "a['name'] = 'pey'\n",
        "print(a)\n"
      ],
      "execution_count": null,
      "outputs": [
        {
          "output_type": "stream",
          "text": [
            "{1: 'a', 'a': 'b'}\n",
            "{1: 'a', 'a': 'b', 'name': 'pey'}\n"
          ],
          "name": "stdout"
        }
      ]
    },
    {
      "cell_type": "markdown",
      "metadata": {
        "id": "tfMCSMHgZCVo"
      },
      "source": [
        "**딕셔너리 key 값이 1인것을 찾아 삭제**"
      ]
    },
    {
      "cell_type": "code",
      "metadata": {
        "colab": {
          "base_uri": "https://localhost:8080/"
        },
        "id": "c-bHiZlsZFQl",
        "outputId": "ca0930cd-08f6-4cd0-d9a3-506b2a78593a"
      },
      "source": [
        "del a[1]\n",
        "print(a)"
      ],
      "execution_count": null,
      "outputs": [
        {
          "output_type": "stream",
          "text": [
            "{'a': 'b', 'name': 'pey'}\n"
          ],
          "name": "stdout"
        }
      ]
    },
    {
      "cell_type": "markdown",
      "metadata": {
        "id": "jKzvkrmsZemf"
      },
      "source": [
        "**딕셔너리에서 key 를 사용해 value 얻기**"
      ]
    },
    {
      "cell_type": "code",
      "metadata": {
        "id": "dnHq0FMPZe3Z",
        "colab": {
          "base_uri": "https://localhost:8080/"
        },
        "outputId": "4878c30e-28cb-4605-8c6e-cbd64c43ff54"
      },
      "source": [
        "score = {'pey': 40, 'juliet': 99, 'tom': 70}\n",
        "print(score['pey'])\n",
        "print(score['tom'])"
      ],
      "execution_count": null,
      "outputs": [
        {
          "output_type": "stream",
          "text": [
            "40\n",
            "70\n"
          ],
          "name": "stdout"
        }
      ]
    },
    {
      "cell_type": "markdown",
      "metadata": {
        "id": "-nm7oP0NmTqz"
      },
      "source": [
        "**딕셔너리 관련 함수**"
      ]
    },
    {
      "cell_type": "code",
      "metadata": {
        "colab": {
          "base_uri": "https://localhost:8080/"
        },
        "id": "6wsz8g40mZc_",
        "outputId": "13de42b8-13aa-4f39-9919-b6d70099f08c"
      },
      "source": [
        "a = {'name': 'pey', 'phone': '01022223333', 'birth':'1118'}     # key 만을 모아서 dict_keys 객체로 반환\n",
        "print(a.keys())\n",
        "\n",
        "list(a.keys())  # key를 모아서 리스트로 변환"
      ],
      "execution_count": null,
      "outputs": [
        {
          "output_type": "stream",
          "text": [
            "dict_keys(['name', 'phone', 'birth'])\n"
          ],
          "name": "stdout"
        },
        {
          "output_type": "execute_result",
          "data": {
            "text/plain": [
              "['name', 'phone', 'birth']"
            ]
          },
          "metadata": {
            "tags": []
          },
          "execution_count": 7
        }
      ]
    },
    {
      "cell_type": "code",
      "metadata": {
        "colab": {
          "base_uri": "https://localhost:8080/"
        },
        "id": "O4oFXqCbog9d",
        "outputId": "1283e61c-67fe-4b3c-c8f6-6e84e148966c"
      },
      "source": [
        "a.values()    # value 만을 모아서 dict_value 객체로 반환"
      ],
      "execution_count": null,
      "outputs": [
        {
          "output_type": "execute_result",
          "data": {
            "text/plain": [
              "dict_values(['pey', '01022223333', '1118'])"
            ]
          },
          "metadata": {
            "tags": []
          },
          "execution_count": 8
        }
      ]
    },
    {
      "cell_type": "code",
      "metadata": {
        "colab": {
          "base_uri": "https://localhost:8080/"
        },
        "id": "VDBjwivPor_2",
        "outputId": "36fa99ad-189f-4296-df6e-4f11a95d6587"
      },
      "source": [
        "a.items()     # key와 value 쌍을 튜플로 묶은 값을 모아서 idc_items 객체로 반환환"
      ],
      "execution_count": null,
      "outputs": [
        {
          "output_type": "execute_result",
          "data": {
            "text/plain": [
              "dict_items([('name', 'pey'), ('phone', '01022223333'), ('birth', '1118')])"
            ]
          },
          "metadata": {
            "tags": []
          },
          "execution_count": 9
        }
      ]
    },
    {
      "cell_type": "code",
      "metadata": {
        "colab": {
          "base_uri": "https://localhost:8080/"
        },
        "id": "wU_ZuqySozXg",
        "outputId": "fc8d1ee8-eacf-4cbf-b6b7-b3f9f95f1c09"
      },
      "source": [
        "a.clear()     # 딕셔너리 요소를 모두 삭제.clear()     # 딕셔너리 요소를 모두 삭제\n",
        "print(a)\n"
      ],
      "execution_count": null,
      "outputs": [
        {
          "output_type": "stream",
          "text": [
            "{}\n"
          ],
          "name": "stdout"
        }
      ]
    },
    {
      "cell_type": "markdown",
      "metadata": {
        "id": "q1tVgdgFpIJW"
      },
      "source": [
        "<strong> key 가 딕셔너리 안에 있는지 조사  \n",
        "key가 딕셔너리 안에 존재하면 True, 존재하지 않으면 False를 반환 </strong>"
      ]
    },
    {
      "cell_type": "code",
      "metadata": {
        "colab": {
          "base_uri": "https://localhost:8080/"
        },
        "id": "RZyulTu-pCVM",
        "outputId": "3ff604f6-3f21-43c3-b3e5-dd4f95e8befe"
      },
      "source": [
        "a = {'name': 'pey', 'phone': '01022223333', 'birth':'1118'}   \n",
        "\n",
        "print('name' in a)\n",
        "\n",
        "print('email' in a)\n",
        "\n",
        "print('email' not in a)"
      ],
      "execution_count": null,
      "outputs": [
        {
          "output_type": "stream",
          "text": [
            "True\n",
            "False\n",
            "True\n"
          ],
          "name": "stdout"
        }
      ]
    },
    {
      "cell_type": "markdown",
      "metadata": {
        "id": "gg6bLapqqL2Z"
      },
      "source": [
        "**key 에 대응되는 value를 반환**"
      ]
    },
    {
      "cell_type": "markdown",
      "metadata": {
        "id": "jRvexcRUrRXH"
      },
      "source": [
        ""
      ]
    },
    {
      "cell_type": "code",
      "metadata": {
        "colab": {
          "base_uri": "https://localhost:8080/"
        },
        "id": "SUBAL1QJqHgY",
        "outputId": "aa8c164e-911a-4a43-e71b-cc526dbbc682"
      },
      "source": [
        "print(a.get('name'))\n",
        "print(a.get('phone'))"
      ],
      "execution_count": null,
      "outputs": [
        {
          "output_type": "stream",
          "text": [
            "pey\n",
            "01022223333\n"
          ],
          "name": "stdout"
        }
      ]
    },
    {
      "cell_type": "markdown",
      "metadata": {
        "id": "qB6QKbaCrXJs"
      },
      "source": [
        "# 집합 자료형"
      ]
    },
    {
      "cell_type": "markdown",
      "metadata": {
        "id": "pG5msB3xrwcv"
      },
      "source": [
        "**집합의 선언**"
      ]
    },
    {
      "cell_type": "code",
      "metadata": {
        "colab": {
          "base_uri": "https://localhost:8080/"
        },
        "id": "QLpoIkv8oNsl",
        "outputId": "d203a0f6-c7d8-429d-f497-2aba53acc6da"
      },
      "source": [
        "s1 = set([1,2,3])\n",
        "s1"
      ],
      "execution_count": null,
      "outputs": [
        {
          "output_type": "execute_result",
          "data": {
            "text/plain": [
              "{1, 2, 3}"
            ]
          },
          "metadata": {
            "tags": []
          },
          "execution_count": 15
        }
      ]
    },
    {
      "cell_type": "markdown",
      "metadata": {
        "id": "yX4ziU-us-PW"
      },
      "source": [
        "**문자열을 입력하여 집합 선언**"
      ]
    },
    {
      "cell_type": "code",
      "metadata": {
        "id": "OhGy6X4xymx1",
        "colab": {
          "base_uri": "https://localhost:8080/"
        },
        "outputId": "d028478c-52d6-44c1-df61-2df689136a4c"
      },
      "source": [
        "(s2 = set(\"apple\")\n",
        "s2"
      ],
      "execution_count": null,
      "outputs": [
        {
          "output_type": "execute_result",
          "data": {
            "text/plain": [
              "{'a', 'e', 'l', 'p'}"
            ]
          },
          "metadata": {
            "tags": []
          },
          "execution_count": 9
        }
      ]
    },
    {
      "cell_type": "markdown",
      "metadata": {
        "id": "YjP5iOIitF1L"
      },
      "source": [
        "**집합 자료형의 연산**"
      ]
    },
    {
      "cell_type": "code",
      "metadata": {
        "colab": {
          "base_uri": "https://localhost:8080/"
        },
        "id": "Km9tu0_FtFTh",
        "outputId": "337e6cdb-f2b6-41b6-c94e-148c79d0c872"
      },
      "source": [
        "s1 = set([1, 2, 3, 4, 5, 6])\n",
        "s2 = set([4, 5, 6, 7, 8, 9])\n",
        "\n",
        "print(s1 & s2)   # 교집합\n",
        "print(s1 | s2)   # 합집합\n",
        "print(s1 - s2)   # 차집합"
      ],
      "execution_count": null,
      "outputs": [
        {
          "output_type": "stream",
          "text": [
            "{4, 5, 6}\n",
            "{1, 2, 3, 4, 5, 6, 7, 8, 9}\n",
            "{1, 2, 3}\n"
          ],
          "name": "stdout"
        }
      ]
    },
    {
      "cell_type": "markdown",
      "metadata": {
        "id": "vwxjSPFouJHo"
      },
      "source": [
        "**집합 관련 함수**"
      ]
    },
    {
      "cell_type": "code",
      "metadata": {
        "id": "37z6f7ErwdeD",
        "colab": {
          "base_uri": "https://localhost:8080/"
        },
        "outputId": "ef132988-03c9-481f-d128-5d18d67b6099"
      },
      "source": [
        "s1 = set([1, 2, 3])\n",
        "\n",
        "s1.add(4)     # set 자료형에 요소 추가\n",
        "print(s1)\n",
        "s1.remove(2) # set 자료형에 요소 삭제\n",
        "print(s1)\n",
        "s1.update([5,6,7])   # set 자료형에 여러 요소 추가\n",
        "print(s1)   "
      ],
      "execution_count": null,
      "outputs": [
        {
          "output_type": "stream",
          "text": [
            "{1, 2, 3, 4}\n",
            "{1, 3, 4}\n",
            "{1, 3, 4, 5, 6, 7}\n"
          ],
          "name": "stdout"
        }
      ]
    },
    {
      "cell_type": "markdown",
      "metadata": {
        "id": "MFBF6D9xvsU0"
      },
      "source": [
        "# 불 자료형"
      ]
    },
    {
      "cell_type": "code",
      "metadata": {
        "colab": {
          "base_uri": "https://localhost:8080/"
        },
        "id": "_A9Wu_z8vtjN",
        "outputId": "c62ea0be-817e-4c36-ab7a-d30c1bc6fb63"
      },
      "source": [
        " a = True\n",
        " b = False\n",
        "\n",
        "print(type(a))\n",
        "print(type(b))"
      ],
      "execution_count": null,
      "outputs": [
        {
          "output_type": "stream",
          "text": [
            "<class 'bool'>\n",
            "<class 'bool'>\n"
          ],
          "name": "stdout"
        }
      ]
    },
    {
      "cell_type": "markdown",
      "metadata": {
        "id": "NQEJ_USxwIzU"
      },
      "source": [
        "**불 자료형은 데이터가 비어있는 변수에 0을 반환, 값이 있으면 1을 반환함**"
      ]
    },
    {
      "cell_type": "code",
      "metadata": {
        "colab": {
          "base_uri": "https://localhost:8080/"
        },
        "id": "3_gXQSXQwTHb",
        "outputId": "e3fd979a-f176-45da-cd7b-a756532c788c"
      },
      "source": [
        "print(bool(\"python\"))\n",
        "print(bool(\"\"))"
      ],
      "execution_count": null,
      "outputs": [
        {
          "output_type": "stream",
          "text": [
            "True\n",
            "False\n"
          ],
          "name": "stdout"
        }
      ]
    },
    {
      "cell_type": "markdown",
      "metadata": {
        "id": "3fltp3t0MwQZ"
      },
      "source": [
        "# 실습예제"
      ]
    },
    {
      "cell_type": "markdown",
      "metadata": {
        "id": "SL7NjMyNPW_5"
      },
      "source": [
        "<strong> **텍스트 데이터 전처리**<br>다양한 데이터 소스로 부터 주소를 받아 표현할때 몇가지의 경우로 서울을 표현하는지 알아보기 </strong>"
      ]
    },
    {
      "cell_type": "markdown",
      "metadata": {
        "id": "8Y4ixrEwQjU_"
      },
      "source": [
        "문자열 합치기"
      ]
    },
    {
      "cell_type": "code",
      "metadata": {
        "id": "9QaB8C0dnXWn"
      },
      "source": [
        "addr1_str=\"서울시 서울특별시 seoul\"\n",
        "addr2_str=\"서울 Seoul 서울-특별시\"\n",
        "addr3_str= \"서울 서울-시\""
      ],
      "execution_count": null,
      "outputs": []
    },
    {
      "cell_type": "code",
      "metadata": {
        "id": "ytSvXx6nnOCI"
      },
      "source": [
        "addr_str = addr1_str +\" \"+ addr2_str + \" \" + addr3_str"
      ],
      "execution_count": null,
      "outputs": []
    },
    {
      "cell_type": "code",
      "metadata": {
        "colab": {
          "base_uri": "https://localhost:8080/"
        },
        "id": "d6mJjtwfNa12",
        "outputId": "791ece78-858f-4ed5-fba4-cc7ade962c08"
      },
      "source": [
        "print(addr_str)   # 합친 문자 확인\n",
        "\n",
        "addr_str=addr_str.lower()\n",
        "\n",
        "print(addr_str)"
      ],
      "execution_count": null,
      "outputs": [
        {
          "output_type": "stream",
          "text": [
            "서울시 서울특별시 seoul 서울 Seoul 서울-특별시 서울 서울-시\n",
            "서울시 서울특별시 seoul 서울 seoul 서울-특별시 서울 서울-시\n"
          ],
          "name": "stdout"
        }
      ]
    },
    {
      "cell_type": "code",
      "metadata": {
        "colab": {
          "base_uri": "https://localhost:8080/"
        },
        "id": "i5LB2yRGmsrM",
        "outputId": "6d6c2fca-e8d3-41ca-d26f-e72d17385b4c"
      },
      "source": [
        "addr_list=addr_str.split()\n",
        "print(addr_list)\n",
        "\n",
        "len(addr_list)\n",
        "\n",
        "print(set(addr_list))"
      ],
      "execution_count": null,
      "outputs": [
        {
          "output_type": "stream",
          "text": [
            "['서울시', '서울특별시', 'seoul', '서울', 'seoul', '서울-특별시', '서울', '서울-시']\n",
            "{'서울-특별시', 'seoul', '서울', '서울시', '서울-시', '서울특별시'}\n"
          ],
          "name": "stdout"
        }
      ]
    }
  ]
}